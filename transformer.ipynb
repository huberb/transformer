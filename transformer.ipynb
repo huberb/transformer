{
  "cells": [
    {
      "cell_type": "markdown",
      "source": [
        "# Introduction\n",
        "\n",
        "Alright, I'd like to understand transformers.\n",
        "\n",
        "This notebook is supposed to be a educational walkthrough that assumes knowlegde of MLPs and CNNs. I'm mostly interested in the applications on computer vision tasks, but we'll have to visit some NLP stuff to get there.\n",
        "\n",
        "This is also assuming a CS background, while diving deep enough into the math to be able to implement all of this.\n",
        "\n",
        "relevant papers:\n",
        "* Attention Is All You Need (https://arxiv.org/abs/1706.03762)\n",
        "* An Image is Worth 16x16 Words: Transformers for Image Recognition at Scale (https://arxiv.org/abs/2010.11929)\n",
        "\n",
        "Throughout this notebook, I'll add all kinds of links to papers, reddit posts or whatever that helped my on the journey. One important reddit post which is full of useful information is this:\n",
        "\n",
        "https://www.reddit.com/r/MachineLearning/comments/j5jg1l/d_confused_mathematician_looking_for_clarity_on/\n",
        "\n",
        "I'll add other links on the go. Let's start"
      ],
      "metadata": {
        "id": "ZvWSUW2rpbhl"
      },
      "id": "ZvWSUW2rpbhl"
    }
  ],
  "metadata": {
    "colab": {
      "name": "transformer.ipynb",
      "provenance": []
    }
  },
  "nbformat": 4,
  "nbformat_minor": 5
}